{
 "cells": [
  {
   "cell_type": "code",
   "execution_count": 2,
   "metadata": {},
   "outputs": [],
   "source": [
    "class Calculator():\n",
    "    def __init__(self, data):\n",
    "        print(data)\n",
    "        self.update_stats(data)\n",
    "        \n",
    "        \n",
    "    def update_stats(self, data):\n",
    "        self.data = data\n",
    "        self.length = len(data)\n",
    "        self.mean = self.calc_mean()\n",
    "        self.median = self.calc_med()\n",
    "        self.variance = self.calc_variance()\n",
    "        self.standev = self.std_dev()\n",
    "        \n",
    "    def calc_mean(self):\n",
    "        data = self.data\n",
    "        return float(sum(data)/len(data))\n",
    "    \n",
    "    \n",
    "    def calc_med(self):\n",
    "        data = self.data\n",
    "        if len(data) % 2 == 0:\n",
    "            m = int(len(data)/2)\n",
    "            ans = (data[m-1]+data[m])/2\n",
    "        elif len(data) % 2 != 0:\n",
    "            ans = data[int((len(data)-1)/2)]\n",
    "        return ans\n",
    "    \n",
    "    def calc_variance(self):\n",
    "        data = self.data\n",
    "        mean = self.mean\n",
    "        return sum([(i-mean)**2 for i in data])/(len(data)-1)\n",
    "\n",
    "    def std_dev(self):\n",
    "        return self.variance**0.5\n",
    "    \n",
    "    def add_data(self, data):\n",
    "        self.data.append(data)\n",
    "        self.update_stats(self.data)\n",
    "        \n",
    "    def remove_data(self, data):\n",
    "        self.data.remove(data)\n",
    "        self.update_stats(self.data)\n",
    "        \n",
    "    "
   ]
  },
  {
   "cell_type": "code",
   "execution_count": 3,
   "metadata": {},
   "outputs": [],
   "source": [
    "random_list = [13, 20, 57, 111, 24, 99, 76, 90, 66, 88, 5]\n"
   ]
  },
  {
   "cell_type": "code",
   "execution_count": 4,
   "metadata": {
    "scrolled": true
   },
   "outputs": [
    {
     "name": "stdout",
     "output_type": "stream",
     "text": [
      "[13, 20, 57, 111, 24, 99, 76, 90, 66, 88, 5]\n"
     ]
    }
   ],
   "source": [
    "c = Calculator(random_list)"
   ]
  },
  {
   "cell_type": "code",
   "execution_count": 5,
   "metadata": {},
   "outputs": [
    {
     "name": "stdout",
     "output_type": "stream",
     "text": [
      "11\n",
      "1422.6\n",
      "10\n"
     ]
    }
   ],
   "source": [
    "print(c.length)\n",
    "print(c.variance)\n",
    "c.remove_data(111)\n",
    "print(c.length)\n"
   ]
  },
  {
   "cell_type": "code",
   "execution_count": null,
   "metadata": {},
   "outputs": [],
   "source": []
  },
  {
   "cell_type": "code",
   "execution_count": null,
   "metadata": {},
   "outputs": [],
   "source": []
  },
  {
   "cell_type": "code",
   "execution_count": null,
   "metadata": {},
   "outputs": [],
   "source": []
  }
 ],
 "metadata": {
  "kernelspec": {
   "display_name": "Python 3",
   "language": "python",
   "name": "python3"
  },
  "language_info": {
   "codemirror_mode": {
    "name": "ipython",
    "version": 3
   },
   "file_extension": ".py",
   "mimetype": "text/x-python",
   "name": "python",
   "nbconvert_exporter": "python",
   "pygments_lexer": "ipython3",
   "version": "3.7.3"
  }
 },
 "nbformat": 4,
 "nbformat_minor": 2
}
